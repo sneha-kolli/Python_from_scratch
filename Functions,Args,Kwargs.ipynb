{
  "nbformat": 4,
  "nbformat_minor": 0,
  "metadata": {
    "colab": {
      "provenance": [],
      "authorship_tag": "ABX9TyMcm7Sm7R+t31xqALb3o8KJ",
      "include_colab_link": true
    },
    "kernelspec": {
      "name": "python3",
      "display_name": "Python 3"
    },
    "language_info": {
      "name": "python"
    }
  },
  "cells": [
    {
      "cell_type": "markdown",
      "metadata": {
        "id": "view-in-github",
        "colab_type": "text"
      },
      "source": [
        "<a href=\"https://colab.research.google.com/github/sneha-kolli/Python_from_scratch/blob/main/Functions%2CArgs%2CKwargs.ipynb\" target=\"_parent\"><img src=\"https://colab.research.google.com/assets/colab-badge.svg\" alt=\"Open In Colab\"/></a>"
      ]
    },
    {
      "cell_type": "code",
      "execution_count": 1,
      "metadata": {
        "id": "oAatonZ98yxi"
      },
      "outputs": [],
      "source": [
        "def fun(a,b,c):  # these are called as positional arguments\n",
        "  return sum((a,b,c))"
      ]
    },
    {
      "cell_type": "code",
      "source": [
        "fun(10,2,30)"
      ],
      "metadata": {
        "colab": {
          "base_uri": "https://localhost:8080/"
        },
        "id": "1CBDmzCI9Bno",
        "outputId": "60da8d36-f528-4a76-f7bb-75bc23a8cdb2"
      },
      "execution_count": 3,
      "outputs": [
        {
          "output_type": "execute_result",
          "data": {
            "text/plain": [
              "42"
            ]
          },
          "metadata": {},
          "execution_count": 3
        }
      ]
    },
    {
      "cell_type": "markdown",
      "source": [
        "Positional Arguments in the sense the order in the way the data is assigned they are mapped to the respective position variables i.e, a,b,c."
      ],
      "metadata": {
        "id": "WKhgIypD9LIn"
      }
    },
    {
      "cell_type": "code",
      "source": [
        "fun(a=10,b=20,c) # throws an error"
      ],
      "metadata": {
        "colab": {
          "base_uri": "https://localhost:8080/",
          "height": 135
        },
        "id": "s06UBBR_9Dmr",
        "outputId": "4b9facea-ffa7-42df-ee97-2b327d3dcb99"
      },
      "execution_count": 4,
      "outputs": [
        {
          "output_type": "error",
          "ename": "SyntaxError",
          "evalue": "ignored",
          "traceback": [
            "\u001b[0;36m  File \u001b[0;32m\"<ipython-input-4-7998c0f856ff>\"\u001b[0;36m, line \u001b[0;32m1\u001b[0m\n\u001b[0;31m    fun(a=10,b=20,c)\u001b[0m\n\u001b[0m                   ^\u001b[0m\n\u001b[0;31mSyntaxError\u001b[0m\u001b[0;31m:\u001b[0m positional argument follows keyword argument\n"
          ]
        }
      ]
    },
    {
      "cell_type": "markdown",
      "source": [
        "The above code takes key word arguments i.e, it takes the values from the assigned variables and doesn't take the value based on the order given or by any mapping rules."
      ],
      "metadata": {
        "id": "vWF3uzaa9gRf"
      }
    },
    {
      "cell_type": "code",
      "source": [
        "fun(a=1,b=2,c=3)"
      ],
      "metadata": {
        "colab": {
          "base_uri": "https://localhost:8080/"
        },
        "id": "CQhSnWC59aNA",
        "outputId": "34a5abf4-b591-40e9-fb3d-1badecdd2631"
      },
      "execution_count": 5,
      "outputs": [
        {
          "output_type": "execute_result",
          "data": {
            "text/plain": [
              "6"
            ]
          },
          "metadata": {},
          "execution_count": 5
        }
      ]
    },
    {
      "cell_type": "code",
      "source": [
        "def fun1(a=0,b=0,c=0,d=0):\n",
        "  return sum((a,b,c,d))"
      ],
      "metadata": {
        "id": "B_eL3RyW95L0"
      },
      "execution_count": 6,
      "outputs": []
    },
    {
      "cell_type": "code",
      "source": [
        "fun1() # it doesn't throw an error because it makes use of the default values defined at the function."
      ],
      "metadata": {
        "colab": {
          "base_uri": "https://localhost:8080/"
        },
        "id": "AM_ZfE8A-SwO",
        "outputId": "05606fb6-6eed-46b5-8b83-fdf87adcf631"
      },
      "execution_count": 8,
      "outputs": [
        {
          "output_type": "execute_result",
          "data": {
            "text/plain": [
              "0"
            ]
          },
          "metadata": {},
          "execution_count": 8
        }
      ]
    },
    {
      "cell_type": "code",
      "source": [
        "fun1(1,3,4,5,6) # throws an error because the no of arguments are the more than the required one."
      ],
      "metadata": {
        "colab": {
          "base_uri": "https://localhost:8080/",
          "height": 171
        },
        "id": "AW3reIew-TlK",
        "outputId": "fc543b94-22c6-4956-d10c-a57c1bd8fdd5"
      },
      "execution_count": 9,
      "outputs": [
        {
          "output_type": "error",
          "ename": "TypeError",
          "evalue": "ignored",
          "traceback": [
            "\u001b[0;31m---------------------------------------------------------------------------\u001b[0m",
            "\u001b[0;31mTypeError\u001b[0m                                 Traceback (most recent call last)",
            "\u001b[0;32m<ipython-input-9-045978a051ce>\u001b[0m in \u001b[0;36m<cell line: 1>\u001b[0;34m()\u001b[0m\n\u001b[0;32m----> 1\u001b[0;31m \u001b[0mfun1\u001b[0m\u001b[0;34m(\u001b[0m\u001b[0;36m1\u001b[0m\u001b[0;34m,\u001b[0m\u001b[0;36m3\u001b[0m\u001b[0;34m,\u001b[0m\u001b[0;36m4\u001b[0m\u001b[0;34m,\u001b[0m\u001b[0;36m5\u001b[0m\u001b[0;34m,\u001b[0m\u001b[0;36m6\u001b[0m\u001b[0;34m)\u001b[0m\u001b[0;34m\u001b[0m\u001b[0;34m\u001b[0m\u001b[0m\n\u001b[0m",
            "\u001b[0;31mTypeError\u001b[0m: fun1() takes from 0 to 4 positional arguments but 5 were given"
          ]
        }
      ]
    },
    {
      "cell_type": "markdown",
      "source": [],
      "metadata": {
        "id": "8UM0nxYh-ock"
      }
    },
    {
      "cell_type": "code",
      "source": [
        "def fun2(*a):\n",
        "  print(a)\n",
        "  print(type(a))\n",
        "  return sum(a)"
      ],
      "metadata": {
        "id": "AxVKFFdD-eDc"
      },
      "execution_count": 14,
      "outputs": []
    },
    {
      "cell_type": "code",
      "source": [
        "fun2(1,2,3,4,5) # the variable can take multiple values and the datatype of the variable is tuple."
      ],
      "metadata": {
        "colab": {
          "base_uri": "https://localhost:8080/"
        },
        "id": "lREYeH0d-zqv",
        "outputId": "345ab404-b601-417c-a863-98a843eed5e8"
      },
      "execution_count": 15,
      "outputs": [
        {
          "output_type": "stream",
          "name": "stdout",
          "text": [
            "(1, 2, 3, 4, 5)\n",
            "<class 'tuple'>\n"
          ]
        },
        {
          "output_type": "execute_result",
          "data": {
            "text/plain": [
              "15"
            ]
          },
          "metadata": {},
          "execution_count": 15
        }
      ]
    },
    {
      "cell_type": "code",
      "source": [
        "fun2(x=2,y=9,z=23) # throws an error because it doesn't take any positional arguments."
      ],
      "metadata": {
        "colab": {
          "base_uri": "https://localhost:8080/",
          "height": 171
        },
        "id": "6cg6xCcZ-1Ly",
        "outputId": "2b699ba4-1ab1-4070-d2f9-6f2b12f891a0"
      },
      "execution_count": 16,
      "outputs": [
        {
          "output_type": "error",
          "ename": "TypeError",
          "evalue": "ignored",
          "traceback": [
            "\u001b[0;31m---------------------------------------------------------------------------\u001b[0m",
            "\u001b[0;31mTypeError\u001b[0m                                 Traceback (most recent call last)",
            "\u001b[0;32m<ipython-input-16-bdba792e6061>\u001b[0m in \u001b[0;36m<cell line: 1>\u001b[0;34m()\u001b[0m\n\u001b[0;32m----> 1\u001b[0;31m \u001b[0mfun2\u001b[0m\u001b[0;34m(\u001b[0m\u001b[0mx\u001b[0m\u001b[0;34m=\u001b[0m\u001b[0;36m2\u001b[0m\u001b[0;34m,\u001b[0m\u001b[0my\u001b[0m\u001b[0;34m=\u001b[0m\u001b[0;36m9\u001b[0m\u001b[0;34m,\u001b[0m\u001b[0mz\u001b[0m\u001b[0;34m=\u001b[0m\u001b[0;36m23\u001b[0m\u001b[0;34m)\u001b[0m\u001b[0;34m\u001b[0m\u001b[0;34m\u001b[0m\u001b[0m\n\u001b[0m",
            "\u001b[0;31mTypeError\u001b[0m: fun2() got an unexpected keyword argument 'x'"
          ]
        }
      ]
    },
    {
      "cell_type": "code",
      "source": [
        "fun2(a=1,c=2,v=1) # even here it throws an error because we never defined 'a' here we just defined a tuple which holds a series of values and perform the reqired operation or task."
      ],
      "metadata": {
        "colab": {
          "base_uri": "https://localhost:8080/",
          "height": 190
        },
        "id": "YGRRh0cX_UwI",
        "outputId": "4164387b-4f3b-4c9a-8ed6-50ea191dff08"
      },
      "execution_count": 17,
      "outputs": [
        {
          "output_type": "error",
          "ename": "TypeError",
          "evalue": "ignored",
          "traceback": [
            "\u001b[0;31m---------------------------------------------------------------------------\u001b[0m",
            "\u001b[0;31mTypeError\u001b[0m                                 Traceback (most recent call last)",
            "\u001b[0;32m<ipython-input-17-51ad04499d56>\u001b[0m in \u001b[0;36m<cell line: 1>\u001b[0;34m()\u001b[0m\n\u001b[0;32m----> 1\u001b[0;31m \u001b[0mfun2\u001b[0m\u001b[0;34m(\u001b[0m\u001b[0ma\u001b[0m\u001b[0;34m=\u001b[0m\u001b[0;36m1\u001b[0m\u001b[0;34m,\u001b[0m\u001b[0mc\u001b[0m\u001b[0;34m=\u001b[0m\u001b[0;36m2\u001b[0m\u001b[0;34m,\u001b[0m\u001b[0mv\u001b[0m\u001b[0;34m=\u001b[0m\u001b[0;36m1\u001b[0m\u001b[0;34m)\u001b[0m \u001b[0;31m# even here it throws an error because we never defined 'a' here we just defined a tuple which holds a series of values and perform the reqired operation or task.\u001b[0m\u001b[0;34m\u001b[0m\u001b[0;34m\u001b[0m\u001b[0m\n\u001b[0m",
            "\u001b[0;31mTypeError\u001b[0m: fun2() got an unexpected keyword argument 'a'"
          ]
        }
      ]
    },
    {
      "cell_type": "code",
      "source": [
        "fun2(a=2) #throws an error as a is not defined."
      ],
      "metadata": {
        "colab": {
          "base_uri": "https://localhost:8080/",
          "height": 171
        },
        "id": "OHIk3H4p_sFf",
        "outputId": "d7b630b8-6127-4448-bc3e-b31af0410910"
      },
      "execution_count": 18,
      "outputs": [
        {
          "output_type": "error",
          "ename": "TypeError",
          "evalue": "ignored",
          "traceback": [
            "\u001b[0;31m---------------------------------------------------------------------------\u001b[0m",
            "\u001b[0;31mTypeError\u001b[0m                                 Traceback (most recent call last)",
            "\u001b[0;32m<ipython-input-18-a93d5f433759>\u001b[0m in \u001b[0;36m<cell line: 1>\u001b[0;34m()\u001b[0m\n\u001b[0;32m----> 1\u001b[0;31m \u001b[0mfun2\u001b[0m\u001b[0;34m(\u001b[0m\u001b[0ma\u001b[0m\u001b[0;34m=\u001b[0m\u001b[0;36m2\u001b[0m\u001b[0;34m)\u001b[0m\u001b[0;34m\u001b[0m\u001b[0;34m\u001b[0m\u001b[0m\n\u001b[0m",
            "\u001b[0;31mTypeError\u001b[0m: fun2() got an unexpected keyword argument 'a'"
          ]
        }
      ]
    },
    {
      "cell_type": "code",
      "source": [
        "fun2(1,2,1)"
      ],
      "metadata": {
        "colab": {
          "base_uri": "https://localhost:8080/"
        },
        "id": "x5aYoyi-_tT9",
        "outputId": "0dc2b02f-b8e0-4256-bad6-25c7ced3e631"
      },
      "execution_count": 19,
      "outputs": [
        {
          "output_type": "stream",
          "name": "stdout",
          "text": [
            "(1, 2, 1)\n",
            "<class 'tuple'>\n"
          ]
        },
        {
          "output_type": "execute_result",
          "data": {
            "text/plain": [
              "4"
            ]
          },
          "metadata": {},
          "execution_count": 19
        }
      ]
    },
    {
      "cell_type": "code",
      "source": [
        "def fun3(**a):\n",
        "  print(a)\n",
        "  print(type(a))"
      ],
      "metadata": {
        "id": "PQ2tlpEa_21W"
      },
      "execution_count": 25,
      "outputs": []
    },
    {
      "cell_type": "code",
      "source": [
        "fun3(3,65,71) # it doesn;t take positional arguments"
      ],
      "metadata": {
        "colab": {
          "base_uri": "https://localhost:8080/",
          "height": 171
        },
        "id": "aeK-w66V_83e",
        "outputId": "cf5a41d9-e95e-4d2a-f25d-a94a2f2d219a"
      },
      "execution_count": 26,
      "outputs": [
        {
          "output_type": "error",
          "ename": "TypeError",
          "evalue": "ignored",
          "traceback": [
            "\u001b[0;31m---------------------------------------------------------------------------\u001b[0m",
            "\u001b[0;31mTypeError\u001b[0m                                 Traceback (most recent call last)",
            "\u001b[0;32m<ipython-input-26-43f90e9b07b8>\u001b[0m in \u001b[0;36m<cell line: 1>\u001b[0;34m()\u001b[0m\n\u001b[0;32m----> 1\u001b[0;31m \u001b[0mfun3\u001b[0m\u001b[0;34m(\u001b[0m\u001b[0;36m3\u001b[0m\u001b[0;34m,\u001b[0m\u001b[0;36m65\u001b[0m\u001b[0;34m,\u001b[0m\u001b[0;36m71\u001b[0m\u001b[0;34m)\u001b[0m \u001b[0;31m# it doesn;t take positional arguments\u001b[0m\u001b[0;34m\u001b[0m\u001b[0;34m\u001b[0m\u001b[0m\n\u001b[0m",
            "\u001b[0;31mTypeError\u001b[0m: fun3() takes 0 positional arguments but 3 were given"
          ]
        }
      ]
    },
    {
      "cell_type": "code",
      "source": [
        "fun3(a=1,b=2,c=3) # it does take key word arguments."
      ],
      "metadata": {
        "colab": {
          "base_uri": "https://localhost:8080/"
        },
        "id": "gLo3tOOQACPm",
        "outputId": "c08b1664-dbb9-4ba8-bb9c-299d79f8d1ba"
      },
      "execution_count": 27,
      "outputs": [
        {
          "output_type": "stream",
          "name": "stdout",
          "text": [
            "{'a': 1, 'b': 2, 'c': 3}\n",
            "<class 'dict'>\n"
          ]
        }
      ]
    },
    {
      "cell_type": "code",
      "source": [
        "def f1(*a):\n",
        "  print(a)\n",
        "  print(type(a))\n",
        "  return sum(a)"
      ],
      "metadata": {
        "id": "_mw1tlDhAPe1"
      },
      "execution_count": 28,
      "outputs": []
    },
    {
      "cell_type": "code",
      "source": [
        "f1(1,2,.233,534,7,88)"
      ],
      "metadata": {
        "colab": {
          "base_uri": "https://localhost:8080/"
        },
        "id": "8ADMW8gVA9rC",
        "outputId": "319bcd36-b9b6-41a0-ce04-11e9829592cc"
      },
      "execution_count": 30,
      "outputs": [
        {
          "output_type": "stream",
          "name": "stdout",
          "text": [
            "(1, 2, 0.233, 534, 7, 88)\n",
            "<class 'tuple'>\n"
          ]
        },
        {
          "output_type": "execute_result",
          "data": {
            "text/plain": [
              "632.233"
            ]
          },
          "metadata": {},
          "execution_count": 30
        }
      ]
    },
    {
      "cell_type": "code",
      "source": [
        "def f2(**a):\n",
        "  print(a)\n",
        "  print(type(a))\n",
        "  print(a['a'])"
      ],
      "metadata": {
        "id": "3_45nOicBCK7"
      },
      "execution_count": 36,
      "outputs": []
    },
    {
      "cell_type": "code",
      "source": [
        "f2(z=23,b=24,c=60,d=45,a=2314)"
      ],
      "metadata": {
        "colab": {
          "base_uri": "https://localhost:8080/"
        },
        "id": "Dy1jwA8zBK2r",
        "outputId": "10dbec0a-76f5-4bde-beac-727caf4166a2"
      },
      "execution_count": 37,
      "outputs": [
        {
          "output_type": "stream",
          "name": "stdout",
          "text": [
            "{'z': 23, 'b': 24, 'c': 60, 'd': 45, 'a': 2314}\n",
            "<class 'dict'>\n",
            "2314\n"
          ]
        }
      ]
    },
    {
      "cell_type": "markdown",
      "source": [
        "single astrix* uses tuple to store the variables and double astrix** uses dictionary to store the variables."
      ],
      "metadata": {
        "id": "ccCEvzbQBlrh"
      }
    },
    {
      "cell_type": "code",
      "source": [
        "def f3(*a,**b):\n",
        "  print(a)\n",
        "  print(type(a))\n",
        "  print(b)\n",
        "  print(type(b))"
      ],
      "metadata": {
        "id": "WsYnKxQUBQTa"
      },
      "execution_count": 38,
      "outputs": []
    },
    {
      "cell_type": "code",
      "source": [
        "f3(12,3,425,45,46,67,76,a=34,b=56) # initially it takes series of values later the key word arguments."
      ],
      "metadata": {
        "colab": {
          "base_uri": "https://localhost:8080/"
        },
        "id": "GgO_64qeB_Px",
        "outputId": "7cb5335c-ef8c-4f34-d96c-32e63ce6bfd7"
      },
      "execution_count": 39,
      "outputs": [
        {
          "output_type": "stream",
          "name": "stdout",
          "text": [
            "(12, 3, 425, 45, 46, 67, 76)\n",
            "<class 'tuple'>\n",
            "{'a': 34, 'b': 56}\n",
            "<class 'dict'>\n"
          ]
        }
      ]
    },
    {
      "cell_type": "code",
      "source": [
        "f3(a=34,b=56,12,3,425,45,46,67,76) # throws an error because the positional arguments are kept in wrong positions"
      ],
      "metadata": {
        "colab": {
          "base_uri": "https://localhost:8080/",
          "height": 135
        },
        "id": "uaTzFQTECDkM",
        "outputId": "6d409172-4633-41bd-acda-008d31cbf69e"
      },
      "execution_count": 40,
      "outputs": [
        {
          "output_type": "error",
          "ename": "SyntaxError",
          "evalue": "ignored",
          "traceback": [
            "\u001b[0;36m  File \u001b[0;32m\"<ipython-input-40-2f8e1e726f4c>\"\u001b[0;36m, line \u001b[0;32m1\u001b[0m\n\u001b[0;31m    f3(a=34,b=56,12,3,425,45,46,67,76)\u001b[0m\n\u001b[0m                                     ^\u001b[0m\n\u001b[0;31mSyntaxError\u001b[0m\u001b[0;31m:\u001b[0m positional argument follows keyword argument\n"
          ]
        }
      ]
    },
    {
      "cell_type": "code",
      "source": [
        "f3(12,3,425,45,46,67,76,a=34,b=56,4,665,8) # it throws an error because we have maintained the structure of the program by taking the args first followed by kwargs but here after kwargs we started taking args ."
      ],
      "metadata": {
        "colab": {
          "base_uri": "https://localhost:8080/",
          "height": 153
        },
        "id": "eRCCPn50CIfA",
        "outputId": "4155061c-3a66-4cae-ddfb-db02223ba7c1"
      },
      "execution_count": 42,
      "outputs": [
        {
          "output_type": "error",
          "ename": "SyntaxError",
          "evalue": "ignored",
          "traceback": [
            "\u001b[0;36m  File \u001b[0;32m\"<ipython-input-42-dc6ca0448bab>\"\u001b[0;36m, line \u001b[0;32m1\u001b[0m\n\u001b[0;31m    f3(12,3,425,45,46,67,76,a=34,b=56,4,665,8) # it throws an error because we have maintained the structure of the program by taking the args first followed by kwargs but here after kwargs we started taking args .\u001b[0m\n\u001b[0m                                             ^\u001b[0m\n\u001b[0;31mSyntaxError\u001b[0m\u001b[0;31m:\u001b[0m positional argument follows keyword argument\n"
          ]
        }
      ]
    }
  ]
}