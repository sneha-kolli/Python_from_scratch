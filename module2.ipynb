{
  "nbformat": 4,
  "nbformat_minor": 0,
  "metadata": {
    "colab": {
      "provenance": [],
      "authorship_tag": "ABX9TyMMH5WjQ/r0wQoc5KE5C9im",
      "include_colab_link": true
    },
    "kernelspec": {
      "name": "python3",
      "display_name": "Python 3"
    },
    "language_info": {
      "name": "python"
    }
  },
  "cells": [
    {
      "cell_type": "markdown",
      "metadata": {
        "id": "view-in-github",
        "colab_type": "text"
      },
      "source": [
        "<a href=\"https://colab.research.google.com/github/sneha-kolli/Python_from_scratch/blob/main/module2.ipynb\" target=\"_parent\"><img src=\"https://colab.research.google.com/assets/colab-badge.svg\" alt=\"Open In Colab\"/></a>"
      ]
    },
    {
      "cell_type": "code",
      "execution_count": 1,
      "metadata": {
        "id": "GOD7-8_bHs22"
      },
      "outputs": [],
      "source": [
        "def square(a):\n",
        "  return a**2"
      ]
    },
    {
      "cell_type": "code",
      "source": [
        "def cube(a):\n",
        "  return a*a*a"
      ],
      "metadata": {
        "id": "jVZXBrgsIF1v"
      },
      "execution_count": 2,
      "outputs": []
    },
    {
      "cell_type": "code",
      "source": [
        "def end():\n",
        "  print(\"The math is done!!\")"
      ],
      "metadata": {
        "id": "vVceXo2lIJZm"
      },
      "execution_count": 3,
      "outputs": []
    },
    {
      "cell_type": "code",
      "source": [],
      "metadata": {
        "id": "DLc1P1liIM1a"
      },
      "execution_count": null,
      "outputs": []
    }
  ]
}