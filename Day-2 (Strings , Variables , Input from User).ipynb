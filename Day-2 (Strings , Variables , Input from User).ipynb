{
 "cells": [
  {
   "cell_type": "markdown",
   "id": "a47e59ff",
   "metadata": {},
   "source": [
    "# Strings"
   ]
  },
  {
   "cell_type": "markdown",
   "id": "c7490ad8",
   "metadata": {},
   "source": [
    "Strings are basically defined as sequence of zero or more characters.\n",
    "We can use them to represent arbitary values.\n",
    "These can be words , a whole sentence , random strings of letters , numerals , punctuation."
   ]
  },
  {
   "cell_type": "markdown",
   "id": "cfe1d031",
   "metadata": {},
   "source": [
    "Strings can be represented in either \" \" (double quotes) or ''(single quotes). But it is invalid to start with single quote and end with a double quote and vice-versa."
   ]
  },
  {
   "cell_type": "code",
   "execution_count": 2,
   "id": "c6c190d2",
   "metadata": {},
   "outputs": [
    {
     "name": "stdout",
     "output_type": "stream",
     "text": [
      "hello! Guys\n",
      "hello! Guys\n"
     ]
    }
   ],
   "source": [
    "print(\"hello! Guys\")\n",
    "print('hello! Guys')"
   ]
  },
  {
   "cell_type": "markdown",
   "id": "b6af05eb",
   "metadata": {},
   "source": [
    "### Fun-Fact"
   ]
  },
  {
   "cell_type": "markdown",
   "id": "7879fd4d",
   "metadata": {},
   "source": [
    "You know what \"\" is considered as a string . Yes , it is called an empty string. As we know that spaces are considered as characters."
   ]
  },
  {
   "cell_type": "code",
   "execution_count": 5,
   "id": "76054c6b",
   "metadata": {},
   "outputs": [
    {
     "name": "stdout",
     "output_type": "stream",
     "text": [
      "\n",
      "<class 'str'>\n"
     ]
    }
   ],
   "source": [
    "print(\"\")\n",
    "print(type(\"\")) # type function is used to find the data type of any value or variable."
   ]
  },
  {
   "cell_type": "code",
   "execution_count": 7,
   "id": "46b3d25f",
   "metadata": {},
   "outputs": [
    {
     "name": "stdout",
     "output_type": "stream",
     "text": [
      " \n",
      "<class 'str'>\n"
     ]
    }
   ],
   "source": [
    "print(\" \")\n",
    "print(type(\" \"))"
   ]
  },
  {
   "cell_type": "markdown",
   "id": "7b1009ae",
   "metadata": {},
   "source": [
    "The above given \" \" is not an empty string. It is basically a string with a single space."
   ]
  },
  {
   "cell_type": "markdown",
   "id": "3f2d803d",
   "metadata": {},
   "source": [
    "## Variables &  Assignment Operator"
   ]
  },
  {
   "cell_type": "markdown",
   "id": "31b83afc",
   "metadata": {},
   "source": [
    "Till now we have seen that values are given directly but what if we have to perform those operations based on users input . Then the values can't be the same all the time right. So for that case we assign those values are assigned to variables . \n",
    "\n",
    "Variables are basically storing units that store values and which can be changed based on the users input.\n",
    "\n",
    "Those values can be stored in the variables using Assignment Operator which is \"=\"."
   ]
  },
  {
   "cell_type": "code",
   "execution_count": 10,
   "id": "3d8a7b3b",
   "metadata": {},
   "outputs": [
    {
     "name": "stdout",
     "output_type": "stream",
     "text": [
      "5\n"
     ]
    }
   ],
   "source": [
    "a = 5\n",
    "print(a)"
   ]
  },
  {
   "cell_type": "code",
   "execution_count": 13,
   "id": "af119be6",
   "metadata": {},
   "outputs": [
    {
     "name": "stdout",
     "output_type": "stream",
     "text": [
      "6.232\n"
     ]
    }
   ],
   "source": [
    "a = 6.232\n",
    "print(a)"
   ]
  },
  {
   "cell_type": "code",
   "execution_count": 14,
   "id": "f2d43886",
   "metadata": {},
   "outputs": [
    {
     "name": "stdout",
     "output_type": "stream",
     "text": [
      "Python\n"
     ]
    }
   ],
   "source": [
    "a = \"Python\"\n",
    "print(a)"
   ]
  },
  {
   "cell_type": "markdown",
   "id": "97e99e00",
   "metadata": {},
   "source": [
    "### Naming Conventions For Variables:"
   ]
  },
  {
   "cell_type": "raw",
   "id": "9f6db26a",
   "metadata": {},
   "source": [
    "The variable names we choose are entirely up to us, but there are a few rules we need to keep in mind:\n",
    "\n",
    "Variable names can include letters, numbers, and underscore (_) characters.\n",
    "Variable names can’t start with a number, though starting with an underscore is allowed.\n",
    "Variable names are case sensitive, but can be in any case."
   ]
  },
  {
   "cell_type": "code",
   "execution_count": 16,
   "id": "653990e3",
   "metadata": {},
   "outputs": [],
   "source": [
    "#2_val = \"4\"\n",
    "#p.name = \"lavanya\"\n",
    "#h'sage= 34\n",
    "#school name = \"LDAF\""
   ]
  },
  {
   "cell_type": "markdown",
   "id": "82c29b74",
   "metadata": {},
   "source": [
    "The above given are the limitations which throws error if you run them.\n",
    "The reasons are:\n",
    "    \n",
    "A variable can't be started with a number.\n",
    "A variable can't have any special symbols like(.,',space) except (_).\n"
   ]
  },
  {
   "cell_type": "code",
   "execution_count": 18,
   "id": "2a8e99a5",
   "metadata": {},
   "outputs": [
    {
     "name": "stdout",
     "output_type": "stream",
     "text": [
      "36\n"
     ]
    }
   ],
   "source": [
    "v1 = 34\n",
    "v2 = 2\n",
    "print(v1 + v2) # retrival of the value stored in the variables."
   ]
  },
  {
   "cell_type": "markdown",
   "id": "09ed388b",
   "metadata": {},
   "source": [
    "# Exception"
   ]
  },
  {
   "cell_type": "code",
   "execution_count": 19,
   "id": "4a6642bb",
   "metadata": {},
   "outputs": [
    {
     "ename": "NameError",
     "evalue": "name 'b' is not defined",
     "output_type": "error",
     "traceback": [
      "\u001b[1;31m---------------------------------------------------------------------------\u001b[0m",
      "\u001b[1;31mNameError\u001b[0m                                 Traceback (most recent call last)",
      "\u001b[1;32m<ipython-input-19-b8f2d057829f>\u001b[0m in \u001b[0;36m<module>\u001b[1;34m\u001b[0m\n\u001b[0;32m      1\u001b[0m \u001b[0ma\u001b[0m \u001b[1;33m=\u001b[0m \u001b[1;36m24\u001b[0m\u001b[1;33m\u001b[0m\u001b[1;33m\u001b[0m\u001b[0m\n\u001b[1;32m----> 2\u001b[1;33m \u001b[0mprint\u001b[0m\u001b[1;33m(\u001b[0m\u001b[0ma\u001b[0m\u001b[1;33m+\u001b[0m\u001b[0mb\u001b[0m\u001b[1;33m)\u001b[0m\u001b[1;33m\u001b[0m\u001b[1;33m\u001b[0m\u001b[0m\n\u001b[0m",
      "\u001b[1;31mNameError\u001b[0m: name 'b' is not defined"
     ]
    }
   ],
   "source": [
    "a = 24\n",
    "print(a+b)"
   ]
  },
  {
   "cell_type": "markdown",
   "id": "142336c3",
   "metadata": {},
   "source": [
    "A traceback is a report that gives us information about what was happening in our code when an exception occured.\n",
    "\n",
    "The first part is the traceback itself, which is going to tell us where the exception occurred. As a side note, an exception is usually an error, but there are cases where exceptions are used for other purposes in Python as well."
   ]
  },
  {
   "cell_type": "markdown",
   "id": "0c9020f8",
   "metadata": {},
   "source": [
    "Along with that we can also see that it is mentioned that it has \"NameError\" which means there is an error in the code . where some variable_name is not defined. ('b' is not defined !! so it is throwing error)"
   ]
  },
  {
   "cell_type": "markdown",
   "id": "29c5154c",
   "metadata": {},
   "source": [
    "# Get input from the User"
   ]
  },
  {
   "cell_type": "markdown",
   "id": "1c2eddcd",
   "metadata": {},
   "source": [
    "Till now we have seen that how value is taken directly in an expression . But we can say most of the times it's not the case so we need to learn how  to take input from the user to perform preffered operations."
   ]
  },
  {
   "cell_type": "markdown",
   "id": "c3192220",
   "metadata": {},
   "source": [
    "To take input from user we have a function named input(). It basically takes string as an input . But user can give all sorts of inputs . So we need to alter this based on the requirement."
   ]
  },
  {
   "cell_type": "code",
   "execution_count": 21,
   "id": "5066aab6",
   "metadata": {},
   "outputs": [
    {
     "name": "stdout",
     "output_type": "stream",
     "text": [
      "hello python\n",
      "output:  hello python\n"
     ]
    }
   ],
   "source": [
    "a = input()\n",
    "print(\"output: \",a)"
   ]
  },
  {
   "cell_type": "code",
   "execution_count": 25,
   "id": "592d8b2f",
   "metadata": {},
   "outputs": [
    {
     "name": "stdout",
     "output_type": "stream",
     "text": [
      "25\n",
      "output:  25\n"
     ]
    }
   ],
   "source": [
    "#Let's see how to take integer input\n",
    "b = int(input())\n",
    "print(\"output: \",b)"
   ]
  },
  {
   "cell_type": "code",
   "execution_count": 27,
   "id": "cedcaf9b",
   "metadata": {},
   "outputs": [
    {
     "name": "stdout",
     "output_type": "stream",
     "text": [
      "43.25\n",
      "output:  43.25\n"
     ]
    }
   ],
   "source": [
    "#Let's see how to take float input\n",
    "c = float(input())\n",
    "print(\"output: \",c)"
   ]
  },
  {
   "cell_type": "markdown",
   "id": "4bd3a34b",
   "metadata": {},
   "source": [
    "# Practice"
   ]
  },
  {
   "cell_type": "markdown",
   "id": "96502494",
   "metadata": {},
   "source": [
    "## Ask the user for their name and age, assign theses values to two variables, and then print them."
   ]
  },
  {
   "cell_type": "code",
   "execution_count": 28,
   "id": "c229a7f2",
   "metadata": {},
   "outputs": [
    {
     "name": "stdout",
     "output_type": "stream",
     "text": [
      "sneha\n",
      "22\n",
      "Name : sneha\n",
      "Age : 22\n"
     ]
    }
   ],
   "source": [
    "Name = input()\n",
    "Age = int(input())\n",
    "print(\"Name :\",Name)\n",
    "print(\"Age :\",Age)"
   ]
  },
  {
   "cell_type": "markdown",
   "id": "3d284f56",
   "metadata": {},
   "source": [
    "## Investigate what happens when you try to assign a value to a variable that you’ve already defined. Try printing the variable before and after you reuse the name."
   ]
  },
  {
   "cell_type": "code",
   "execution_count": 37,
   "id": "6c9a4b41",
   "metadata": {},
   "outputs": [
    {
     "name": "stdout",
     "output_type": "stream",
     "text": [
      "36\n"
     ]
    }
   ],
   "source": [
    "v1 = 24\n",
    "v1 = 36\n",
    "print(v1)"
   ]
  },
  {
   "cell_type": "markdown",
   "id": "f992bad1",
   "metadata": {},
   "source": [
    "We can see that it is so flexible that it can change it's datatype without any issues. and whenever we change the value in the specific variable then it tends to store the new value and delete the old one."
   ]
  },
  {
   "cell_type": "markdown",
   "id": "d7aaeb61",
   "metadata": {},
   "source": [
    "## Below you’ll find some code with a number of errors. Try to go through the program line by line and fix the issues in the code. I’d encourage you to try running the program while you’re working on it, as reading the error messages is great practice for debugging your own programs."
   ]
  },
  {
   "cell_type": "raw",
   "id": "5bd0d773",
   "metadata": {},
   "source": [
    "hourly_wage = input(\"Please enter your hourly wage: ')\n",
    "\n",
    "prnt(\"Hourly wage: \")\n",
    "print(hourlywage)\n",
    "print(\"Hours worked: \")\n",
    "print(hours_worked)\n",
    "\n",
    "hours_worked = input(\"How many hours did you work this week? \")\n"
   ]
  },
  {
   "cell_type": "raw",
   "id": "f84e1be6",
   "metadata": {},
   "source": [
    "The Errors in the above code are:\n",
    "    firstly in the hourly_wage input it started with \" and ended with '.\n",
    "    secondly the variable name (hourly_wage) is taken wrong in the print\n",
    "    function.\n",
    "    Thirdly the variable_name(hours_worked) is used before defining.\n",
    "    lastly , print functions are replaced with prnt."
   ]
  },
  {
   "cell_type": "code",
   "execution_count": 36,
   "id": "7d9855b5",
   "metadata": {},
   "outputs": [
    {
     "name": "stdout",
     "output_type": "stream",
     "text": [
      "Please enter your hourly wage:23\n",
      "How many hours did you work this week? 5\n",
      "Hourly wage: \n",
      "23\n",
      "Hours worked: \n",
      "5\n"
     ]
    }
   ],
   "source": [
    "hourly_wage = input(\"Please enter your hourly wage:\")\n",
    "hours_worked = input(\"How many hours did you work this week? \")\n",
    "print(\"Hourly wage: \")\n",
    "print(hourly_wage)\n",
    "print(\"Hours worked: \")\n",
    "print(hours_worked)\n",
    "\n",
    "\n"
   ]
  },
  {
   "cell_type": "code",
   "execution_count": null,
   "id": "e289c916",
   "metadata": {},
   "outputs": [],
   "source": []
  }
 ],
 "metadata": {
  "kernelspec": {
   "display_name": "Python 3",
   "language": "python",
   "name": "python3"
  },
  "language_info": {
   "codemirror_mode": {
    "name": "ipython",
    "version": 3
   },
   "file_extension": ".py",
   "mimetype": "text/x-python",
   "name": "python",
   "nbconvert_exporter": "python",
   "pygments_lexer": "ipython3",
   "version": "3.8.8"
  }
 },
 "nbformat": 4,
 "nbformat_minor": 5
}
