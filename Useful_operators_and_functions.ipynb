{
  "nbformat": 4,
  "nbformat_minor": 0,
  "metadata": {
    "colab": {
      "provenance": [],
      "authorship_tag": "ABX9TyM+Pe8ado9I3Aouhn65zxqF",
      "include_colab_link": true
    },
    "kernelspec": {
      "name": "python3",
      "display_name": "Python 3"
    },
    "language_info": {
      "name": "python"
    }
  },
  "cells": [
    {
      "cell_type": "markdown",
      "metadata": {
        "id": "view-in-github",
        "colab_type": "text"
      },
      "source": [
        "<a href=\"https://colab.research.google.com/github/sneha-kolli/Python_from_scratch/blob/main/Useful_operators_and_functions.ipynb\" target=\"_parent\"><img src=\"https://colab.research.google.com/assets/colab-badge.svg\" alt=\"Open In Colab\"/></a>"
      ]
    },
    {
      "cell_type": "code",
      "execution_count": 1,
      "metadata": {
        "colab": {
          "base_uri": "https://localhost:8080/"
        },
        "id": "fe9t9DOps0EQ",
        "outputId": "6190ee77-d72a-4a6d-e8d0-47b43067b57b"
      },
      "outputs": [
        {
          "output_type": "execute_result",
          "data": {
            "text/plain": [
              "(0, 1, 2, 3, 4, 5, 6, 7, 8)"
            ]
          },
          "metadata": {},
          "execution_count": 1
        }
      ],
      "source": [
        "tuple(range(9))"
      ]
    },
    {
      "cell_type": "code",
      "source": [
        "tuple(range(1,10,1))"
      ],
      "metadata": {
        "colab": {
          "base_uri": "https://localhost:8080/"
        },
        "id": "DY4Eri4ctpJw",
        "outputId": "e1ee16ab-b388-448c-888c-41ec3911deed"
      },
      "execution_count": 2,
      "outputs": [
        {
          "output_type": "execute_result",
          "data": {
            "text/plain": [
              "(1, 2, 3, 4, 5, 6, 7, 8, 9)"
            ]
          },
          "metadata": {},
          "execution_count": 2
        }
      ]
    },
    {
      "cell_type": "code",
      "source": [
        "tuple(range(1,10,2))"
      ],
      "metadata": {
        "colab": {
          "base_uri": "https://localhost:8080/"
        },
        "id": "R1HA7kVXufaq",
        "outputId": "50927acd-7fe8-462b-9426-1b96832f0155"
      },
      "execution_count": 3,
      "outputs": [
        {
          "output_type": "execute_result",
          "data": {
            "text/plain": [
              "(1, 3, 5, 7, 9)"
            ]
          },
          "metadata": {},
          "execution_count": 3
        }
      ]
    },
    {
      "cell_type": "code",
      "source": [
        "tuple(range(1,10,3))"
      ],
      "metadata": {
        "colab": {
          "base_uri": "https://localhost:8080/"
        },
        "id": "HTgZ7gQYuhRM",
        "outputId": "b77a19c3-af7f-4a9f-b2c7-a839edafcb4c"
      },
      "execution_count": 4,
      "outputs": [
        {
          "output_type": "execute_result",
          "data": {
            "text/plain": [
              "(1, 4, 7)"
            ]
          },
          "metadata": {},
          "execution_count": 4
        }
      ]
    },
    {
      "cell_type": "code",
      "source": [
        "st = \"Python Programming\""
      ],
      "metadata": {
        "id": "-wwQprDPujxQ"
      },
      "execution_count": 5,
      "outputs": []
    },
    {
      "cell_type": "code",
      "source": [
        "dict(enumerate(st))"
      ],
      "metadata": {
        "colab": {
          "base_uri": "https://localhost:8080/"
        },
        "id": "Y5w97vVTupw4",
        "outputId": "b2f38151-a6d5-4ed0-941f-1d51220035b9"
      },
      "execution_count": 7,
      "outputs": [
        {
          "output_type": "execute_result",
          "data": {
            "text/plain": [
              "{0: 'P',\n",
              " 1: 'y',\n",
              " 2: 't',\n",
              " 3: 'h',\n",
              " 4: 'o',\n",
              " 5: 'n',\n",
              " 6: ' ',\n",
              " 7: 'P',\n",
              " 8: 'r',\n",
              " 9: 'o',\n",
              " 10: 'g',\n",
              " 11: 'r',\n",
              " 12: 'a',\n",
              " 13: 'm',\n",
              " 14: 'm',\n",
              " 15: 'i',\n",
              " 16: 'n',\n",
              " 17: 'g'}"
            ]
          },
          "metadata": {},
          "execution_count": 7
        }
      ]
    },
    {
      "cell_type": "code",
      "source": [
        "party_list = ['SK','RK','RM','UK','UGK']"
      ],
      "metadata": {
        "id": "kcxEEkCkutTT"
      },
      "execution_count": 8,
      "outputs": []
    },
    {
      "cell_type": "code",
      "source": [
        "dict(enumerate(party_list))"
      ],
      "metadata": {
        "colab": {
          "base_uri": "https://localhost:8080/"
        },
        "id": "irj8Kmbiu9TU",
        "outputId": "3dece328-cc0f-4269-841b-402ef6938f45"
      },
      "execution_count": 9,
      "outputs": [
        {
          "output_type": "execute_result",
          "data": {
            "text/plain": [
              "{0: 'SK', 1: 'RK', 2: 'RM', 3: 'UK', 4: 'UGK'}"
            ]
          },
          "metadata": {},
          "execution_count": 9
        }
      ]
    },
    {
      "cell_type": "code",
      "source": [
        "li = [1,2,4,5,5,6,[3,7,5,6,8]]"
      ],
      "metadata": {
        "id": "vRkDF_wfvBQ8"
      },
      "execution_count": 10,
      "outputs": []
    },
    {
      "cell_type": "code",
      "source": [
        "dict(enumerate(li))"
      ],
      "metadata": {
        "colab": {
          "base_uri": "https://localhost:8080/"
        },
        "id": "P-yXMjrAvM57",
        "outputId": "aa46222a-b309-46c0-8870-bea0e6933bb7"
      },
      "execution_count": 11,
      "outputs": [
        {
          "output_type": "execute_result",
          "data": {
            "text/plain": [
              "{0: 1, 1: 2, 2: 4, 3: 5, 4: 5, 5: 6, 6: [3, 7, 5, 6, 8]}"
            ]
          },
          "metadata": {},
          "execution_count": 11
        }
      ]
    },
    {
      "cell_type": "code",
      "source": [
        "'SK' in party_list"
      ],
      "metadata": {
        "colab": {
          "base_uri": "https://localhost:8080/"
        },
        "id": "ThDc6RvIvOiu",
        "outputId": "e928e846-d745-406f-f019-c5ea6e3494f4"
      },
      "execution_count": 13,
      "outputs": [
        {
          "output_type": "execute_result",
          "data": {
            "text/plain": [
              "True"
            ]
          },
          "metadata": {},
          "execution_count": 13
        }
      ]
    },
    {
      "cell_type": "code",
      "source": [
        "'SK' not in party_list"
      ],
      "metadata": {
        "colab": {
          "base_uri": "https://localhost:8080/"
        },
        "id": "DVz3ZFMOvqxX",
        "outputId": "0fd091c7-d7e5-4d5b-a749-c1a5f307e9ef"
      },
      "execution_count": 14,
      "outputs": [
        {
          "output_type": "execute_result",
          "data": {
            "text/plain": [
              "False"
            ]
          },
          "metadata": {},
          "execution_count": 14
        }
      ]
    },
    {
      "cell_type": "code",
      "source": [
        "li2 = [1,4,6,3,8]"
      ],
      "metadata": {
        "id": "cxdOOfMuvzaB"
      },
      "execution_count": 19,
      "outputs": []
    },
    {
      "cell_type": "code",
      "source": [
        "min(li2)"
      ],
      "metadata": {
        "colab": {
          "base_uri": "https://localhost:8080/"
        },
        "id": "amuOYCFSvub4",
        "outputId": "471aa8d6-633a-49c9-b604-f7964014f9f6"
      },
      "execution_count": 20,
      "outputs": [
        {
          "output_type": "execute_result",
          "data": {
            "text/plain": [
              "1"
            ]
          },
          "metadata": {},
          "execution_count": 20
        }
      ]
    },
    {
      "cell_type": "code",
      "source": [
        "max(li2)"
      ],
      "metadata": {
        "colab": {
          "base_uri": "https://localhost:8080/"
        },
        "id": "xp-QQYTcvvpe",
        "outputId": "1d378634-d82f-49b2-950a-52bfa5efcd96"
      },
      "execution_count": 21,
      "outputs": [
        {
          "output_type": "execute_result",
          "data": {
            "text/plain": [
              "8"
            ]
          },
          "metadata": {},
          "execution_count": 21
        }
      ]
    },
    {
      "cell_type": "code",
      "source": [
        "len(li2)"
      ],
      "metadata": {
        "colab": {
          "base_uri": "https://localhost:8080/"
        },
        "id": "aDBJXgnLvwMl",
        "outputId": "868ec995-8814-4fb1-ead4-415feac81fe9"
      },
      "execution_count": 22,
      "outputs": [
        {
          "output_type": "execute_result",
          "data": {
            "text/plain": [
              "5"
            ]
          },
          "metadata": {},
          "execution_count": 22
        }
      ]
    },
    {
      "cell_type": "code",
      "source": [
        "type(li2)"
      ],
      "metadata": {
        "colab": {
          "base_uri": "https://localhost:8080/"
        },
        "id": "DhYZmP1rv64F",
        "outputId": "8863e7d6-6937-400f-9e53-f8dc7b6ebe06"
      },
      "execution_count": 23,
      "outputs": [
        {
          "output_type": "execute_result",
          "data": {
            "text/plain": [
              "list"
            ]
          },
          "metadata": {},
          "execution_count": 23
        }
      ]
    },
    {
      "cell_type": "code",
      "source": [
        "r = list(range(6))"
      ],
      "metadata": {
        "id": "hOm3EzSpwJAb"
      },
      "execution_count": 24,
      "outputs": []
    },
    {
      "cell_type": "code",
      "source": [
        "r"
      ],
      "metadata": {
        "colab": {
          "base_uri": "https://localhost:8080/"
        },
        "id": "Gfze4Mvewgyb",
        "outputId": "aba6b609-3a1a-4864-d0f3-41d99c7405dd"
      },
      "execution_count": 25,
      "outputs": [
        {
          "output_type": "execute_result",
          "data": {
            "text/plain": [
              "[0, 1, 2, 3, 4, 5]"
            ]
          },
          "metadata": {},
          "execution_count": 25
        }
      ]
    },
    {
      "cell_type": "code",
      "source": [
        "for r1,n in zip(r,party_list):\n",
        "  print(r1,n)"
      ],
      "metadata": {
        "colab": {
          "base_uri": "https://localhost:8080/"
        },
        "id": "eikR_yo6whfO",
        "outputId": "9e5601a4-87f3-4f51-e1f5-54e209d3ebaa"
      },
      "execution_count": 26,
      "outputs": [
        {
          "output_type": "stream",
          "name": "stdout",
          "text": [
            "0 SK\n",
            "1 RK\n",
            "2 RM\n",
            "3 UK\n",
            "4 UGK\n"
          ]
        }
      ]
    },
    {
      "cell_type": "code",
      "source": [
        "comp = ['Apple','Google','Samsung','Motrola','oppo']\n",
        "stocks = [2300,5000,3400,2900,1290]"
      ],
      "metadata": {
        "id": "lXZ-lq1oxMsT"
      },
      "execution_count": 27,
      "outputs": []
    },
    {
      "cell_type": "code",
      "source": [
        "m_c = comp[0]\n",
        "m_s = stocks[0]\n",
        "for c,s in zip(comp,stocks):\n",
        "  if m_s < s:\n",
        "    m_s = s \n",
        "    m_c = c"
      ],
      "metadata": {
        "id": "IDHtTZmo9Ki1"
      },
      "execution_count": 28,
      "outputs": []
    },
    {
      "cell_type": "code",
      "source": [
        "m_s"
      ],
      "metadata": {
        "colab": {
          "base_uri": "https://localhost:8080/"
        },
        "id": "PoMSYjIW9uRy",
        "outputId": "8f44c0a8-d3be-40ce-ae03-cc19b2993992"
      },
      "execution_count": 29,
      "outputs": [
        {
          "output_type": "execute_result",
          "data": {
            "text/plain": [
              "5000"
            ]
          },
          "metadata": {},
          "execution_count": 29
        }
      ]
    },
    {
      "cell_type": "code",
      "source": [
        "m_c"
      ],
      "metadata": {
        "colab": {
          "base_uri": "https://localhost:8080/",
          "height": 36
        },
        "id": "wxaHTWzv9vbY",
        "outputId": "04285961-97ec-46e1-d6ad-2c5943bbb3bd"
      },
      "execution_count": 30,
      "outputs": [
        {
          "output_type": "execute_result",
          "data": {
            "text/plain": [
              "'Google'"
            ],
            "application/vnd.google.colaboratory.intrinsic+json": {
              "type": "string"
            }
          },
          "metadata": {},
          "execution_count": 30
        }
      ]
    },
    {
      "cell_type": "code",
      "source": [
        "'python'.upper()"
      ],
      "metadata": {
        "colab": {
          "base_uri": "https://localhost:8080/",
          "height": 36
        },
        "id": "8KJrs2YA9xIY",
        "outputId": "8a496761-636a-42af-d1a9-5ca597d8bf4e"
      },
      "execution_count": 31,
      "outputs": [
        {
          "output_type": "execute_result",
          "data": {
            "text/plain": [
              "'PYTHON'"
            ],
            "application/vnd.google.colaboratory.intrinsic+json": {
              "type": "string"
            }
          },
          "metadata": {},
          "execution_count": 31
        }
      ]
    },
    {
      "cell_type": "code",
      "source": [
        "'python'.capitalize()"
      ],
      "metadata": {
        "colab": {
          "base_uri": "https://localhost:8080/",
          "height": 36
        },
        "id": "numTuNYH972e",
        "outputId": "675943ad-5d0d-451c-97e5-d6c180a1a2f0"
      },
      "execution_count": 33,
      "outputs": [
        {
          "output_type": "execute_result",
          "data": {
            "text/plain": [
              "'Python'"
            ],
            "application/vnd.google.colaboratory.intrinsic+json": {
              "type": "string"
            }
          },
          "metadata": {},
          "execution_count": 33
        }
      ]
    },
    {
      "cell_type": "code",
      "source": [
        "'python'.isdigit()"
      ],
      "metadata": {
        "colab": {
          "base_uri": "https://localhost:8080/"
        },
        "id": "bccHJLM29-Fe",
        "outputId": "d7bef86b-420d-4691-91d4-a523c5387790"
      },
      "execution_count": 34,
      "outputs": [
        {
          "output_type": "execute_result",
          "data": {
            "text/plain": [
              "False"
            ]
          },
          "metadata": {},
          "execution_count": 34
        }
      ]
    },
    {
      "cell_type": "markdown",
      "source": [
        "# **methods and functions have similar purposes but differ in important ways. Functions are independent blocks of code that can be called from anywhere, while methods are tied to objects or classes and need an object or class instance to be invoked.**"
      ],
      "metadata": {
        "id": "7OkklR59-XGL"
      }
    },
    {
      "cell_type": "code",
      "source": [
        "def f1():\n",
        "  print(\"hello\")"
      ],
      "metadata": {
        "id": "HNDw6laS-C5B"
      },
      "execution_count": 35,
      "outputs": []
    },
    {
      "cell_type": "code",
      "source": [
        "f1() # function call"
      ],
      "metadata": {
        "colab": {
          "base_uri": "https://localhost:8080/"
        },
        "id": "VX-_sQO8-v3e",
        "outputId": "0feb0215-e919-4cef-9b57-87ab52716101"
      },
      "execution_count": 36,
      "outputs": [
        {
          "output_type": "stream",
          "name": "stdout",
          "text": [
            "hello\n"
          ]
        }
      ]
    },
    {
      "cell_type": "code",
      "source": [
        "def f2(name):\n",
        "  print(f\"hello {name}!!\")"
      ],
      "metadata": {
        "id": "Iu7KAhAL-xxW"
      },
      "execution_count": 37,
      "outputs": []
    },
    {
      "cell_type": "code",
      "source": [
        "f2(\"sneha\")"
      ],
      "metadata": {
        "colab": {
          "base_uri": "https://localhost:8080/"
        },
        "id": "sJ01SKcd-7TJ",
        "outputId": "9979504f-7cb5-40a7-b2c1-398195cc3a7e"
      },
      "execution_count": 38,
      "outputs": [
        {
          "output_type": "stream",
          "name": "stdout",
          "text": [
            "hello sneha!!\n"
          ]
        }
      ]
    },
    {
      "cell_type": "code",
      "source": [
        "def add(a,b):\n",
        "  print(a+b)"
      ],
      "metadata": {
        "id": "SZBT95Mz-8a2"
      },
      "execution_count": 39,
      "outputs": []
    },
    {
      "cell_type": "code",
      "source": [
        "add(1,-1)"
      ],
      "metadata": {
        "colab": {
          "base_uri": "https://localhost:8080/"
        },
        "id": "XqcMAD92-_9g",
        "outputId": "e1044545-05b8-48d3-bf4e-f2d503c3b11b"
      },
      "execution_count": 45,
      "outputs": [
        {
          "output_type": "stream",
          "name": "stdout",
          "text": [
            "0\n"
          ]
        }
      ]
    },
    {
      "cell_type": "code",
      "source": [
        "def add1(a,b):\n",
        "  return a+b"
      ],
      "metadata": {
        "id": "RybmknXB_A3i"
      },
      "execution_count": 41,
      "outputs": []
    },
    {
      "cell_type": "code",
      "source": [
        "add1(1,-1)"
      ],
      "metadata": {
        "colab": {
          "base_uri": "https://localhost:8080/"
        },
        "id": "IUE-vAQr_F9i",
        "outputId": "a85fe728-0b6a-41f2-c534-bdabd893c4e5"
      },
      "execution_count": 46,
      "outputs": [
        {
          "output_type": "execute_result",
          "data": {
            "text/plain": [
              "0"
            ]
          },
          "metadata": {},
          "execution_count": 46
        }
      ]
    },
    {
      "cell_type": "markdown",
      "source": [
        "Return is different from the print statement because it stores the output their and stops their itself but while taking about print it continues its sequence until the end of the function."
      ],
      "metadata": {
        "id": "DcSnltlJ_LsJ"
      }
    },
    {
      "cell_type": "code",
      "source": [
        "# you can see the real difference when we store it in a variable\n",
        "a = add(1,-1)\n",
        "b = add1(1,-1)"
      ],
      "metadata": {
        "colab": {
          "base_uri": "https://localhost:8080/"
        },
        "id": "FMVR5_Mr_JOV",
        "outputId": "1f6c3d58-2fc5-493a-c897-939dec56b079"
      },
      "execution_count": 47,
      "outputs": [
        {
          "output_type": "stream",
          "name": "stdout",
          "text": [
            "0\n"
          ]
        }
      ]
    },
    {
      "cell_type": "code",
      "source": [
        "a # it is null or there is no value stored in that variable."
      ],
      "metadata": {
        "id": "gM70glGRAUii"
      },
      "execution_count": 48,
      "outputs": []
    },
    {
      "cell_type": "code",
      "source": [
        "b"
      ],
      "metadata": {
        "colab": {
          "base_uri": "https://localhost:8080/"
        },
        "id": "EaFRuFQoAU6n",
        "outputId": "24750a28-462d-4d7b-83b2-d1b6d853a625"
      },
      "execution_count": 49,
      "outputs": [
        {
          "output_type": "execute_result",
          "data": {
            "text/plain": [
              "0"
            ]
          },
          "metadata": {},
          "execution_count": 49
        }
      ]
    },
    {
      "cell_type": "code",
      "source": [
        "def even_or_odd (n):\n",
        "  if n%2 == 0:\n",
        "    return \"even\"\n",
        "  else:\n",
        "    return \"odd\""
      ],
      "metadata": {
        "id": "j_BYnvI9AVh2"
      },
      "execution_count": 50,
      "outputs": []
    },
    {
      "cell_type": "code",
      "source": [
        "print(even_or_odd(4080809))"
      ],
      "metadata": {
        "colab": {
          "base_uri": "https://localhost:8080/"
        },
        "id": "eVKDB_mTAnTn",
        "outputId": "8c565ca9-d45e-4dfc-f5d2-f0ea66304366"
      },
      "execution_count": 52,
      "outputs": [
        {
          "output_type": "stream",
          "name": "stdout",
          "text": [
            "odd\n"
          ]
        }
      ]
    },
    {
      "cell_type": "code",
      "source": [
        "def sum_li (li):\n",
        "  s_ = 0\n",
        "  for i in li:\n",
        "    s_ += i\n",
        "  return s_"
      ],
      "metadata": {
        "id": "LcNqZloHApzt"
      },
      "execution_count": 53,
      "outputs": []
    },
    {
      "cell_type": "code",
      "source": [
        "sum_li([1,2,3,4,5,-5,-4,-3,-2,-1])"
      ],
      "metadata": {
        "colab": {
          "base_uri": "https://localhost:8080/"
        },
        "id": "tJtsRruwA03O",
        "outputId": "2e54893b-4c8a-4c0c-975d-7fc97d2b931f"
      },
      "execution_count": 55,
      "outputs": [
        {
          "output_type": "execute_result",
          "data": {
            "text/plain": [
              "0"
            ]
          },
          "metadata": {},
          "execution_count": 55
        }
      ]
    },
    {
      "cell_type": "code",
      "source": [
        "def create_odd_even_list(li):\n",
        "  e_li = []\n",
        "  o_li = []\n",
        "  for i in li:\n",
        "    if i%2 == 0:\n",
        "      e_li.append(i)\n",
        "    else:\n",
        "      o_li.append(i)\n",
        "  return e_li , o_li"
      ],
      "metadata": {
        "id": "v-U1NtPAA3N9"
      },
      "execution_count": 58,
      "outputs": []
    },
    {
      "cell_type": "code",
      "source": [
        "print(create_odd_even_list([1,2,3,4,5,6,7,8,9,10]))"
      ],
      "metadata": {
        "colab": {
          "base_uri": "https://localhost:8080/"
        },
        "id": "cyf2kYpKBLkl",
        "outputId": "9806b0da-9594-4ec3-c0a8-390fa6a46ff0"
      },
      "execution_count": 59,
      "outputs": [
        {
          "output_type": "stream",
          "name": "stdout",
          "text": [
            "([2, 4, 6, 8, 10], [1, 3, 5, 7, 9])\n"
          ]
        }
      ]
    }
  ]
}