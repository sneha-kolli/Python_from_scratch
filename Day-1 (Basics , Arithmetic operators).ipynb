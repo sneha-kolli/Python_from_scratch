{
 "cells": [
  {
   "cell_type": "markdown",
   "id": "7b2b81b4",
   "metadata": {},
   "source": [
    "## Key-Points"
   ]
  },
  {
   "cell_type": "markdown",
   "id": "3b73e1d9",
   "metadata": {},
   "source": [
    "Python is a dynamic, interpreted language.\n",
    "There  is no necessity of type declarations.\n",
    "It makes the code shorter, flexible.\n",
    "It checks all the values at runtime and points out the code that doesn't make any sense."
   ]
  },
  {
   "cell_type": "markdown",
   "id": "6dc37671",
   "metadata": {},
   "source": [
    "A funfact that the operator \"*\" works faster compared to '+'.\n",
    "It's because the \"*\" operator tend to calculate the length of the resulting object once but \"+\" tends to calculate everytime it is called."
   ]
  },
  {
   "cell_type": "markdown",
   "id": "916e573c",
   "metadata": {},
   "source": [
    "Identation can be mostly seen while we use python to code.The reason behind it is that in the languages like C,java we have used braces({}) to represent blocks of code.\n",
    "in the same way in order to represent the code belong to specific block we use indentation."
   ]
  },
  {
   "cell_type": "markdown",
   "id": "97a330dd",
   "metadata": {},
   "source": [
    "In python we have two numerical data types which is integer and float.\n",
    "Where integer is a whole number and float is a decimal value."
   ]
  },
  {
   "cell_type": "code",
   "execution_count": 17,
   "id": "097aa9e3",
   "metadata": {},
   "outputs": [
    {
     "name": "stdout",
     "output_type": "stream",
     "text": [
      "2\n",
      "2.353\n"
     ]
    }
   ],
   "source": [
    "print(2) #integer\n",
    "print(2.353) # float"
   ]
  },
  {
   "cell_type": "markdown",
   "id": "eac229ec",
   "metadata": {},
   "source": [
    "### Fun-Fact"
   ]
  },
  {
   "cell_type": "markdown",
   "id": "af94ec11",
   "metadata": {},
   "source": [
    "In python we have a special function which helps us to find the datatype of a value or a variable by simply calling the function.\n",
    "It is \"type()\" function."
   ]
  },
  {
   "cell_type": "code",
   "execution_count": 22,
   "id": "34400458",
   "metadata": {},
   "outputs": [
    {
     "data": {
      "text/plain": [
       "int"
      ]
     },
     "execution_count": 22,
     "metadata": {},
     "output_type": "execute_result"
    }
   ],
   "source": [
    "type(2)"
   ]
  },
  {
   "cell_type": "code",
   "execution_count": 23,
   "id": "d9e95010",
   "metadata": {},
   "outputs": [
    {
     "data": {
      "text/plain": [
       "float"
      ]
     },
     "execution_count": 23,
     "metadata": {},
     "output_type": "execute_result"
    }
   ],
   "source": [
    "type(2.342)"
   ]
  },
  {
   "cell_type": "markdown",
   "id": "50e2d022",
   "metadata": {},
   "source": [
    "# Arithmetic Operators"
   ]
  },
  {
   "cell_type": "raw",
   "id": "cdebcd20",
   "metadata": {},
   "source": [
    "The basic thing that we all do when we learn programming is Arithmetic operations.\n",
    "The basic arithmetic operators are +,-,*,/,etc."
   ]
  },
  {
   "cell_type": "code",
   "execution_count": 5,
   "id": "7dc6c89b",
   "metadata": {},
   "outputs": [
    {
     "name": "stdout",
     "output_type": "stream",
     "text": [
      "5\n",
      "-1\n",
      "6\n",
      "0.6666666666666666\n"
     ]
    }
   ],
   "source": [
    "print(2+3)\n",
    "print(2-3)\n",
    "print(2*3)\n",
    "print(2/3)"
   ]
  },
  {
   "cell_type": "markdown",
   "id": "14c8d570",
   "metadata": {},
   "source": [
    "while doing addition,subtraction,multiplication..if anyone of the operands tend to be float then the resultant will be float.\n",
    "In the case of division whatever be the operands the resultant will always be float."
   ]
  },
  {
   "cell_type": "code",
   "execution_count": 7,
   "id": "2bd33ac9",
   "metadata": {},
   "outputs": [
    {
     "name": "stdout",
     "output_type": "stream",
     "text": [
      "2.4\n",
      "1.6\n",
      "0.8\n",
      "5.0\n",
      "0.5\n"
     ]
    }
   ],
   "source": [
    "print(2+0.4)\n",
    "print(2-0.4)\n",
    "print(2*0.4)\n",
    "print(2/0.4)\n",
    "print(2/4)"
   ]
  },
  {
   "cell_type": "markdown",
   "id": "45a813ec",
   "metadata": {},
   "source": [
    "In case if you are worrying that what if we group multiple arithmetic operators then what will happen??\n",
    "Then it will evaluates the complete operation based on our BODMAS method."
   ]
  },
  {
   "cell_type": "code",
   "execution_count": 8,
   "id": "5b5ae4ba",
   "metadata": {},
   "outputs": [
    {
     "data": {
      "text/plain": [
       "-21.666666666666668"
      ]
     },
     "execution_count": 8,
     "metadata": {},
     "output_type": "execute_result"
    }
   ],
   "source": [
    "2+3-4*5/3+1-7*9/3"
   ]
  },
  {
   "cell_type": "markdown",
   "id": "5b570127",
   "metadata": {},
   "source": [
    "If we use parenthesis in our expression then the expression is evaluated by giving precedence to them."
   ]
  },
  {
   "cell_type": "code",
   "execution_count": 9,
   "id": "38690c89",
   "metadata": {},
   "outputs": [
    {
     "data": {
      "text/plain": [
       "1.0"
      ]
     },
     "execution_count": 9,
     "metadata": {},
     "output_type": "execute_result"
    }
   ],
   "source": [
    "(2+6)-(3+4)/(4-3)"
   ]
  },
  {
   "cell_type": "markdown",
   "id": "b28451e8",
   "metadata": {},
   "source": [
    "There is a special operator in python which is used to calculate the power of a value. It looks similar to * but we need to place ** to calculate the power."
   ]
  },
  {
   "cell_type": "code",
   "execution_count": 14,
   "id": "596d049a",
   "metadata": {},
   "outputs": [
    {
     "name": "stdout",
     "output_type": "stream",
     "text": [
      "8\n",
      "9\n"
     ]
    }
   ],
   "source": [
    "print(2**3)\n",
    "print(3**2)"
   ]
  },
  {
   "cell_type": "markdown",
   "id": "2ff0062f",
   "metadata": {},
   "source": [
    "# Practice"
   ]
  },
  {
   "cell_type": "markdown",
   "id": "05e9a577",
   "metadata": {},
   "source": [
    "## Print your age to the console."
   ]
  },
  {
   "cell_type": "code",
   "execution_count": 10,
   "id": "ff7a8384",
   "metadata": {},
   "outputs": [
    {
     "name": "stdout",
     "output_type": "stream",
     "text": [
      "20\n",
      "age : 20\n"
     ]
    }
   ],
   "source": [
    "age = int(input()) # to take input from the user\n",
    "print(\"age :\",age)"
   ]
  },
  {
   "cell_type": "markdown",
   "id": "7d732807",
   "metadata": {},
   "source": [
    "## Calculate and print the number of days, weeks, and months in 27 years. Don’t worry about leap years!"
   ]
  },
  {
   "cell_type": "code",
   "execution_count": 11,
   "id": "7f4dcd14",
   "metadata": {},
   "outputs": [
    {
     "name": "stdout",
     "output_type": "stream",
     "text": [
      "days : 9855\n",
      "weeks : 1404\n",
      "months : 324\n"
     ]
    }
   ],
   "source": [
    "print(\"days :\",27*365)\n",
    "print(\"weeks :\",27*52)\n",
    "print(\"months :\",27*12)"
   ]
  },
  {
   "cell_type": "markdown",
   "id": "1137f84f",
   "metadata": {},
   "source": [
    "## Calculate and print the area of a circle with a radius of 5 units. You can be as accurate as you like with the value of pi."
   ]
  },
  {
   "cell_type": "code",
   "execution_count": 12,
   "id": "4f1befa1",
   "metadata": {},
   "outputs": [
    {
     "name": "stdout",
     "output_type": "stream",
     "text": [
      "area of circle: 78.5\n"
     ]
    }
   ],
   "source": [
    "r = 5\n",
    "area = 3.14 * r * r\n",
    "print(\"area of circle:\",area)"
   ]
  }
 ],
 "metadata": {
  "kernelspec": {
   "display_name": "Python 3",
   "language": "python",
   "name": "python3"
  },
  "language_info": {
   "codemirror_mode": {
    "name": "ipython",
    "version": 3
   },
   "file_extension": ".py",
   "mimetype": "text/x-python",
   "name": "python",
   "nbconvert_exporter": "python",
   "pygments_lexer": "ipython3",
   "version": "3.8.8"
  }
 },
 "nbformat": 4,
 "nbformat_minor": 5
}
