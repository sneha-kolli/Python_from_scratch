{
  "nbformat": 4,
  "nbformat_minor": 0,
  "metadata": {
    "colab": {
      "provenance": [],
      "authorship_tag": "ABX9TyMngxG2MmH7S6ejUK8VMgq2",
      "include_colab_link": true
    },
    "kernelspec": {
      "name": "python3",
      "display_name": "Python 3"
    },
    "language_info": {
      "name": "python"
    }
  },
  "cells": [
    {
      "cell_type": "markdown",
      "metadata": {
        "id": "view-in-github",
        "colab_type": "text"
      },
      "source": [
        "<a href=\"https://colab.research.google.com/github/sneha-kolli/Python_from_scratch/blob/main/Errors_and_Exception_Handling.ipynb\" target=\"_parent\"><img src=\"https://colab.research.google.com/assets/colab-badge.svg\" alt=\"Open In Colab\"/></a>"
      ]
    },
    {
      "cell_type": "markdown",
      "source": [
        "The most common types of errors you'll encounter in Python are syntax errors, runtime errors, logical errors, name errors, type errors, index errors, and attribute errors"
      ],
      "metadata": {
        "id": "KBssIPucKr54"
      }
    },
    {
      "cell_type": "markdown",
      "source": [
        "Syntactical error is Raised by the parser when a syntax error is encountered.\n",
        "\n",
        "\n"
      ],
      "metadata": {
        "id": "wqjt9ADVK4Tg"
      }
    },
    {
      "cell_type": "code",
      "execution_count": 35,
      "metadata": {
        "colab": {
          "base_uri": "https://localhost:8080/",
          "height": 135
        },
        "id": "zwGVh9TxJcMx",
        "outputId": "08e2f849-014d-43c8-b721-ded221295873"
      },
      "outputs": [
        {
          "output_type": "error",
          "ename": "SyntaxError",
          "evalue": "ignored",
          "traceback": [
            "\u001b[0;36m  File \u001b[0;32m\"<ipython-input-35-c6304a2ccd32>\"\u001b[0;36m, line \u001b[0;32m1\u001b[0m\n\u001b[0;31m    print(\"python)\u001b[0m\n\u001b[0m          ^\u001b[0m\n\u001b[0;31mSyntaxError\u001b[0m\u001b[0;31m:\u001b[0m unterminated string literal (detected at line 1)\n"
          ]
        }
      ],
      "source": [
        "print(\"python)\n",
        "#it throws an error as we forgot to place the ending quotes"
      ]
    },
    {
      "cell_type": "code",
      "source": [
        "print(\"Hello\"/) # syntax error"
      ],
      "metadata": {
        "id": "LELTQuVhJoU-",
        "colab": {
          "base_uri": "https://localhost:8080/",
          "height": 135
        },
        "outputId": "70544b0f-e019-468a-f16a-7365f96c735a"
      },
      "execution_count": 32,
      "outputs": [
        {
          "output_type": "error",
          "ename": "SyntaxError",
          "evalue": "ignored",
          "traceback": [
            "\u001b[0;36m  File \u001b[0;32m\"<ipython-input-32-0c0049e64932>\"\u001b[0;36m, line \u001b[0;32m1\u001b[0m\n\u001b[0;31m    print(\"Hello\"/) # syntax error\u001b[0m\n\u001b[0m                  ^\u001b[0m\n\u001b[0;31mSyntaxError\u001b[0m\u001b[0;31m:\u001b[0m invalid syntax\n"
          ]
        }
      ]
    },
    {
      "cell_type": "code",
      "source": [
        "A = {'A':25,'B':}"
      ],
      "metadata": {
        "colab": {
          "base_uri": "https://localhost:8080/",
          "height": 135
        },
        "id": "owPu5uUIJ8bm",
        "outputId": "b07eb8e7-7a14-42a4-d338-ee00b640b891"
      },
      "execution_count": 47,
      "outputs": [
        {
          "output_type": "error",
          "ename": "SyntaxError",
          "evalue": "ignored",
          "traceback": [
            "\u001b[0;36m  File \u001b[0;32m\"<ipython-input-47-294e03085b2f>\"\u001b[0;36m, line \u001b[0;32m1\u001b[0m\n\u001b[0;31m    A = {'A':25,'B':}\u001b[0m\n\u001b[0m                   ^\u001b[0m\n\u001b[0;31mSyntaxError\u001b[0m\u001b[0;31m:\u001b[0m expression expected after dictionary key and ':'\n"
          ]
        }
      ]
    },
    {
      "cell_type": "code",
      "source": [
        "C = {'a':1,'b':2}"
      ],
      "metadata": {
        "id": "ZuRlPQCehDle"
      },
      "execution_count": 49,
      "outputs": []
    },
    {
      "cell_type": "markdown",
      "source": [
        "# Symantical Error"
      ],
      "metadata": {
        "id": "OBofspS8dbq_"
      }
    },
    {
      "cell_type": "code",
      "source": [
        "B = [1,34,7,3,8,9,3,1]"
      ],
      "metadata": {
        "id": "YXidAXh3KUUs"
      },
      "execution_count": 36,
      "outputs": []
    },
    {
      "cell_type": "code",
      "source": [
        "B[9] # Index Error"
      ],
      "metadata": {
        "colab": {
          "base_uri": "https://localhost:8080/",
          "height": 171
        },
        "id": "ZrZclW8uKcZL",
        "outputId": "2f9ac73c-51b7-4298-b25d-77a4f00d6fd7"
      },
      "execution_count": 37,
      "outputs": [
        {
          "output_type": "error",
          "ename": "IndexError",
          "evalue": "ignored",
          "traceback": [
            "\u001b[0;31m---------------------------------------------------------------------------\u001b[0m",
            "\u001b[0;31mIndexError\u001b[0m                                Traceback (most recent call last)",
            "\u001b[0;32m<ipython-input-37-465f2cfdcb93>\u001b[0m in \u001b[0;36m<cell line: 1>\u001b[0;34m()\u001b[0m\n\u001b[0;32m----> 1\u001b[0;31m \u001b[0mB\u001b[0m\u001b[0;34m[\u001b[0m\u001b[0;36m9\u001b[0m\u001b[0;34m]\u001b[0m \u001b[0;31m# Index Error\u001b[0m\u001b[0;34m\u001b[0m\u001b[0;34m\u001b[0m\u001b[0m\n\u001b[0m",
            "\u001b[0;31mIndexError\u001b[0m: list index out of range"
          ]
        }
      ]
    },
    {
      "cell_type": "code",
      "source": [
        "print(1/0) # zero division error"
      ],
      "metadata": {
        "id": "QYTjQWprKdCT"
      },
      "execution_count": null,
      "outputs": []
    },
    {
      "cell_type": "code",
      "source": [
        "print(A['C'])"
      ],
      "metadata": {
        "id": "gRyZZAn6KxhF"
      },
      "execution_count": null,
      "outputs": []
    },
    {
      "cell_type": "code",
      "source": [
        "try:\n",
        "  print(B[0])\n",
        "except:\n",
        "  print(\"Error has occured\")"
      ],
      "metadata": {
        "id": "dYNLhLz5K4w6",
        "colab": {
          "base_uri": "https://localhost:8080/"
        },
        "outputId": "908c760d-e337-4c2d-d0c8-dbb3525c291e"
      },
      "execution_count": 38,
      "outputs": [
        {
          "output_type": "stream",
          "name": "stdout",
          "text": [
            "1\n"
          ]
        }
      ]
    },
    {
      "cell_type": "markdown",
      "source": [
        "It does print because it doesn't specifically throws an error."
      ],
      "metadata": {
        "id": "pn_GvDHPbZp6"
      }
    },
    {
      "cell_type": "code",
      "source": [
        "try:\n",
        "  print(A['A'])\n",
        "except:\n",
        "  print(\"It has an error\")"
      ],
      "metadata": {
        "colab": {
          "base_uri": "https://localhost:8080/"
        },
        "id": "QrrngRwSammC",
        "outputId": "de73e728-7bf1-497a-f324-d75f78aeea91"
      },
      "execution_count": 39,
      "outputs": [
        {
          "output_type": "stream",
          "name": "stdout",
          "text": [
            "It has an error\n"
          ]
        }
      ]
    },
    {
      "cell_type": "code",
      "source": [
        "li = [124,56,733,968,0,324,443]"
      ],
      "metadata": {
        "id": "LNr91fDUbnai"
      },
      "execution_count": 40,
      "outputs": []
    },
    {
      "cell_type": "code",
      "source": [
        "x = 1000"
      ],
      "metadata": {
        "id": "S87nqDQdb27e"
      },
      "execution_count": 41,
      "outputs": []
    },
    {
      "cell_type": "code",
      "source": [
        "for num in li:\n",
        "  print(x/num) #it throws error for"
      ],
      "metadata": {
        "colab": {
          "base_uri": "https://localhost:8080/",
          "height": 263
        },
        "id": "nTjgunq2b5yo",
        "outputId": "4cf457a0-8ebc-490e-9c89-38f68f7d04d9"
      },
      "execution_count": 42,
      "outputs": [
        {
          "output_type": "stream",
          "name": "stdout",
          "text": [
            "8.064516129032258\n",
            "17.857142857142858\n",
            "1.364256480218281\n",
            "1.0330578512396693\n"
          ]
        },
        {
          "output_type": "error",
          "ename": "ZeroDivisionError",
          "evalue": "ignored",
          "traceback": [
            "\u001b[0;31m---------------------------------------------------------------------------\u001b[0m",
            "\u001b[0;31mZeroDivisionError\u001b[0m                         Traceback (most recent call last)",
            "\u001b[0;32m<ipython-input-42-0f5da3a96273>\u001b[0m in \u001b[0;36m<cell line: 1>\u001b[0;34m()\u001b[0m\n\u001b[1;32m      1\u001b[0m \u001b[0;32mfor\u001b[0m \u001b[0mnum\u001b[0m \u001b[0;32min\u001b[0m \u001b[0mli\u001b[0m\u001b[0;34m:\u001b[0m\u001b[0;34m\u001b[0m\u001b[0;34m\u001b[0m\u001b[0m\n\u001b[0;32m----> 2\u001b[0;31m   \u001b[0mprint\u001b[0m\u001b[0;34m(\u001b[0m\u001b[0mx\u001b[0m\u001b[0;34m/\u001b[0m\u001b[0mnum\u001b[0m\u001b[0;34m)\u001b[0m \u001b[0;31m#it throws error for\u001b[0m\u001b[0;34m\u001b[0m\u001b[0;34m\u001b[0m\u001b[0m\n\u001b[0m",
            "\u001b[0;31mZeroDivisionError\u001b[0m: division by zero"
          ]
        }
      ]
    },
    {
      "cell_type": "code",
      "source": [
        "try:\n",
        "  for i in li:\n",
        "    print(x/i)\n",
        "except:\n",
        "  print(\"Exception has occured!!\") # it get printed when it is divided by zero."
      ],
      "metadata": {
        "id": "29nmrMTib-SY"
      },
      "execution_count": null,
      "outputs": []
    },
    {
      "cell_type": "code",
      "source": [
        "try:\n",
        "  print(10/5)\n",
        "  print(A['A'])\n",
        "except: # it handles all kinds of errors in the code.\n",
        "  print(\"Error Occured\")"
      ],
      "metadata": {
        "colab": {
          "base_uri": "https://localhost:8080/"
        },
        "id": "MzZLRfKjcvZz",
        "outputId": "6abd68f2-9b26-414d-9b1d-e44ed62e55eb"
      },
      "execution_count": 43,
      "outputs": [
        {
          "output_type": "stream",
          "name": "stdout",
          "text": [
            "2.0\n",
            "Error Occured\n"
          ]
        }
      ]
    },
    {
      "cell_type": "code",
      "source": [
        "try:\n",
        "  print(10/0) # throws error but not handled in the exception part so it wouldn't help.\n",
        "  print(A['A'])\n",
        "except KeyError: # it only handles keyError but not others.\n",
        "  print(\"KeyError has occured\")\n"
      ],
      "metadata": {
        "colab": {
          "base_uri": "https://localhost:8080/",
          "height": 244
        },
        "id": "EORPhMSyetW8",
        "outputId": "ca6aca63-0a53-4f7e-ce34-0c929d9f2839"
      },
      "execution_count": 44,
      "outputs": [
        {
          "output_type": "error",
          "ename": "ZeroDivisionError",
          "evalue": "ignored",
          "traceback": [
            "\u001b[0;31m---------------------------------------------------------------------------\u001b[0m",
            "\u001b[0;31mZeroDivisionError\u001b[0m                         Traceback (most recent call last)",
            "\u001b[0;32m<ipython-input-44-6eb5ba9f7a30>\u001b[0m in \u001b[0;36m<cell line: 1>\u001b[0;34m()\u001b[0m\n\u001b[1;32m      1\u001b[0m \u001b[0;32mtry\u001b[0m\u001b[0;34m:\u001b[0m\u001b[0;34m\u001b[0m\u001b[0;34m\u001b[0m\u001b[0m\n\u001b[0;32m----> 2\u001b[0;31m   \u001b[0mprint\u001b[0m\u001b[0;34m(\u001b[0m\u001b[0;36m10\u001b[0m\u001b[0;34m/\u001b[0m\u001b[0;36m0\u001b[0m\u001b[0;34m)\u001b[0m \u001b[0;31m# throws error but not handled in the exception part so it wouldn't help.\u001b[0m\u001b[0;34m\u001b[0m\u001b[0;34m\u001b[0m\u001b[0m\n\u001b[0m\u001b[1;32m      3\u001b[0m   \u001b[0mprint\u001b[0m\u001b[0;34m(\u001b[0m\u001b[0mA\u001b[0m\u001b[0;34m[\u001b[0m\u001b[0;34m'A'\u001b[0m\u001b[0;34m]\u001b[0m\u001b[0;34m)\u001b[0m\u001b[0;34m\u001b[0m\u001b[0;34m\u001b[0m\u001b[0m\n\u001b[1;32m      4\u001b[0m \u001b[0;32mexcept\u001b[0m \u001b[0mKeyError\u001b[0m\u001b[0;34m:\u001b[0m\u001b[0;34m\u001b[0m\u001b[0;34m\u001b[0m\u001b[0m\n\u001b[1;32m      5\u001b[0m   \u001b[0mprint\u001b[0m\u001b[0;34m(\u001b[0m\u001b[0;34m\"KeyError has occured\"\u001b[0m\u001b[0;34m)\u001b[0m\u001b[0;34m\u001b[0m\u001b[0;34m\u001b[0m\u001b[0m\n",
            "\u001b[0;31mZeroDivisionError\u001b[0m: division by zero"
          ]
        }
      ]
    },
    {
      "cell_type": "code",
      "source": [
        "try:\n",
        "  print(10/0)\n",
        "  print(A['A'])\n",
        "except ZeroDivisionError: # it only handles zero division error but not others.\n",
        "  print(\"ZeroDivisionError has occured\")\n"
      ],
      "metadata": {
        "colab": {
          "base_uri": "https://localhost:8080/"
        },
        "id": "uZUqs6aufwbG",
        "outputId": "fd76db82-808e-4741-9d82-a3d628725e34"
      },
      "execution_count": 45,
      "outputs": [
        {
          "output_type": "stream",
          "name": "stdout",
          "text": [
            "ZeroDivisionError has occured\n"
          ]
        }
      ]
    },
    {
      "cell_type": "code",
      "source": [
        "try:\n",
        "  print(C['A'])\n",
        "except KeyError:\n",
        "  print(\"KeyError has occured\")\n",
        "except ZeroDivisionError:\n",
        "  print(\"ZeroDivisionError has occured\")"
      ],
      "metadata": {
        "colab": {
          "base_uri": "https://localhost:8080/"
        },
        "id": "CfDJXafNgfcB",
        "outputId": "9cf759cf-d415-4463-c6d9-95c4e5346257"
      },
      "execution_count": 51,
      "outputs": [
        {
          "output_type": "stream",
          "name": "stdout",
          "text": [
            "KeyError has occured\n"
          ]
        }
      ]
    },
    {
      "cell_type": "code",
      "source": [
        "try:\n",
        "  print(23/0)\n",
        "except KeyError:\n",
        "  print(\"KeyError has occured\")\n",
        "except ZeroDivisionError:\n",
        "  print(\"ZeroDivisionError has occured\")"
      ],
      "metadata": {
        "colab": {
          "base_uri": "https://localhost:8080/"
        },
        "id": "Fneoai9jg71K",
        "outputId": "ad18c531-1bc8-4952-e0df-f4fb136cea15"
      },
      "execution_count": 53,
      "outputs": [
        {
          "output_type": "stream",
          "name": "stdout",
          "text": [
            "ZeroDivisionError has occured\n"
          ]
        }
      ]
    },
    {
      "cell_type": "code",
      "source": [
        "try:\n",
        "  print(2+5)\n",
        "  print(23-0)\n",
        "except KeyError:\n",
        "  print(\"KeyError has occured\")\n",
        "except ZeroDivisionError:\n",
        "  print(\"ZeroDivisionError has occured\")\n",
        "finally: # finally is the parrt of code it runs even if the code has error or not.\n",
        "  print(\"Completed all the code\")"
      ],
      "metadata": {
        "colab": {
          "base_uri": "https://localhost:8080/"
        },
        "id": "H3MYcQ7chiZW",
        "outputId": "32ada478-9f41-48de-8d13-bd6774a6275d"
      },
      "execution_count": 54,
      "outputs": [
        {
          "output_type": "stream",
          "name": "stdout",
          "text": [
            "7\n",
            "23\n",
            "Completed all the code\n"
          ]
        }
      ]
    },
    {
      "cell_type": "code",
      "source": [
        "try:\n",
        "  print(10/0)\n",
        "  print(A['A'])\n",
        "except KeyError:\n",
        "  print(\"KeyError has occured\")\n",
        "except ZeroDivisionError:\n",
        "  print(\"ZeroDivisionError has occured\")\n",
        "finally: # finally is the parrt of code it runs even if the code has error or not.\n",
        "  print(\"Completed all the code\")"
      ],
      "metadata": {
        "colab": {
          "base_uri": "https://localhost:8080/"
        },
        "id": "JfSCSeJshznL",
        "outputId": "255ab769-ac89-4124-f2e8-1533560f52b9"
      },
      "execution_count": 55,
      "outputs": [
        {
          "output_type": "stream",
          "name": "stdout",
          "text": [
            "ZeroDivisionError has occured\n",
            "Completed all the code\n"
          ]
        }
      ]
    },
    {
      "cell_type": "markdown",
      "source": [
        "## Let's write code using try and except for taking age as input from the user"
      ],
      "metadata": {
        "id": "CdSscWcFiCH7"
      }
    },
    {
      "cell_type": "code",
      "source": [
        "try:\n",
        "  age = int(input(\"Enter the age of the candidate:\"))\n",
        "except:\n",
        "  print(\"Enter the valid age of the candidate\")"
      ],
      "metadata": {
        "colab": {
          "base_uri": "https://localhost:8080/"
        },
        "id": "jmuS3DfPh4wg",
        "outputId": "fd216d89-24d3-4d43-dcc3-a3ea47b188e1"
      },
      "execution_count": 57,
      "outputs": [
        {
          "output_type": "stream",
          "name": "stdout",
          "text": [
            "Enter the age of the candidate:r4\n",
            "Enter the valid age of the candidate\n"
          ]
        }
      ]
    },
    {
      "cell_type": "markdown",
      "source": [
        "If you want to utilize it for multiple candidates."
      ],
      "metadata": {
        "id": "lU5hLsxUie4L"
      }
    },
    {
      "cell_type": "code",
      "source": [
        "for i in range(int(input())):\n",
        "  try:\n",
        "    age = int(input(\"Enter the age of the candidate:\"))\n",
        "  except:\n",
        "    print(\"Enter the valid age of the candidate\")"
      ],
      "metadata": {
        "colab": {
          "base_uri": "https://localhost:8080/"
        },
        "id": "dkECVaR7iWpW",
        "outputId": "a2f6ce6f-957e-4f29-ddac-35f27852b132"
      },
      "execution_count": 59,
      "outputs": [
        {
          "output_type": "stream",
          "name": "stdout",
          "text": [
            "5\n",
            "Enter the age of the candidate:45\n",
            "Enter the age of the candidate:23\n",
            "Enter the age of the candidate:u8\n",
            "Enter the valid age of the candidate\n",
            "Enter the age of the candidate:e4\n",
            "Enter the valid age of the candidate\n",
            "Enter the age of the candidate:hh\n",
            "Enter the valid age of the candidate\n"
          ]
        }
      ]
    }
  ]
}